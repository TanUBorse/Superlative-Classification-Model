{
 "cells": [
  {
   "cell_type": "code",
   "execution_count": 5,
   "metadata": {},
   "outputs": [],
   "source": [
    "import os\n",
    "import tensorflow as tf\n",
    "from tensorflow.keras.preprocessing.image import ImageDataGenerator\n",
    "import matplotlib.pyplot as plt\n",
    "import shutil\n",
    "from sklearn.model_selection import train_test_split\n",
    "import json\n",
    "import numpy as np\n",
    "import cv2\n",
    "from tensorflow.keras.models import Sequential\n",
    "from tensorflow.keras.layers import Conv2D, MaxPooling2D, Flatten, Dense, Dropout"
   ]
  },
  {
   "cell_type": "code",
   "execution_count": 6,
   "metadata": {},
   "outputs": [],
   "source": [
    "# Paths\n",
    "objects_dir = \"Objects\"\n",
    "splits_dir = \"Splits\"\n",
    "train_dir = os.path.join(splits_dir, \"train\")\n",
    "test_dir = os.path.join(splits_dir, \"test\")\n",
    "val_dir = os.path.join(splits_dir, \"validation\")"
   ]
  },
  {
   "cell_type": "code",
   "execution_count": 7,
   "metadata": {},
   "outputs": [],
   "source": [
    "# Create Splits directory if not exists\n",
    "if not os.path.exists(splits_dir):\n",
    "    os.makedirs(splits_dir)\n",
    "\n",
    "# Get the list of class names\n",
    "class_names = os.listdir(objects_dir)\n",
    "\n",
    "# Create train, test, validation directories\n",
    "for directory in [train_dir, test_dir, val_dir]:\n",
    "    if not os.path.exists(directory):\n",
    "        os.makedirs(directory)"
   ]
  },
  {
   "cell_type": "code",
   "execution_count": 8,
   "metadata": {},
   "outputs": [],
   "source": [
    "# Create subdirectories for each class in train, test, validation directories\n",
    "for class_name in class_names:\n",
    "    for directory in [train_dir, test_dir, val_dir]:\n",
    "        class_dir = os.path.join(directory, class_name)\n",
    "        if not os.path.exists(class_dir):\n",
    "            os.makedirs(class_dir)"
   ]
  },
  {
   "cell_type": "code",
   "execution_count": 9,
   "metadata": {},
   "outputs": [
    {
     "name": "stdout",
     "output_type": "stream",
     "text": [
      "['hello', 'namaste']\n"
     ]
    }
   ],
   "source": [
    "class_names = os.listdir(objects_dir)\n",
    "print(class_names)\n",
    "\n",
    "# Split data into train, test, validation sets and move videos\n",
    "for class_name in class_names:\n",
    "    # List videos for the current class\n",
    "    class_videos = [video for video in os.listdir(os.path.join(objects_dir, class_name)) if video.endswith(\".mp4\")]\n",
    "\n",
    "    # Split data into train and test sets (80% train, 20% test)\n",
    "    train_videos, test_val_videos = train_test_split(class_videos, test_size=0.2, random_state=42)\n",
    "    # Split remaining data into test and validation sets (50% test, 50% validation)\n",
    "    test_videos, val_videos = train_test_split(test_val_videos, test_size=0.5, random_state=42)\n",
    "\n",
    "    # Move videos to appropriate directories\n",
    "    for video in train_videos:\n",
    "        src = os.path.join(objects_dir, class_name, video)\n",
    "        dst = os.path.join(train_dir, class_name, video)\n",
    "        shutil.copy(src, dst)\n",
    "\n",
    "    for video in test_videos:\n",
    "        src = os.path.join(objects_dir, class_name, video)\n",
    "        dst = os.path.join(test_dir, class_name, video)\n",
    "        shutil.copy(src, dst)\n",
    "\n",
    "    for video in val_videos:\n",
    "        src = os.path.join(objects_dir, class_name, video)\n",
    "        dst = os.path.join(val_dir, class_name, video)\n",
    "        shutil.copy(src, dst)"
   ]
  },
  {
   "cell_type": "code",
   "execution_count": 10,
   "metadata": {},
   "outputs": [
    {
     "name": "stdout",
     "output_type": "stream",
     "text": [
      "Batch 1: Training data shape: (32, 224, 224, 3), Labels shape: (32,)\n",
      "Batch 2: Training data shape: (32, 224, 224, 3), Labels shape: (32,)\n",
      "Batch 3: Training data shape: (32, 224, 224, 3), Labels shape: (32,)\n",
      "Batch 4: Training data shape: (32, 224, 224, 3), Labels shape: (32,)\n",
      "Batch 5: Training data shape: (32, 224, 224, 3), Labels shape: (32,)\n",
      "Batch 1: Validation data shape: (32, 224, 224, 3), Labels shape: (32,)\n",
      "Batch 2: Validation data shape: (32, 224, 224, 3), Labels shape: (32,)\n",
      "Batch 3: Validation data shape: (32, 224, 224, 3), Labels shape: (32,)\n",
      "Batch 4: Validation data shape: (32, 224, 224, 3), Labels shape: (32,)\n",
      "Batch 5: Validation data shape: (32, 224, 224, 3), Labels shape: (32,)\n"
     ]
    }
   ],
   "source": [
    "\n",
    "# Define the directory paths\n",
    "train_videos_dir = \"Splits/train\"  # Update with your actual directory path\n",
    "validation_videos_dir = \"Splits/validation\"\n",
    "\n",
    "# Custom data generator for videos\n",
    "def video_data_generator(directory, batch_size, target_size=(224, 224), shuffle=True):\n",
    "    video_folders = os.listdir(directory)\n",
    "    num_classes = len(video_folders)\n",
    "    class_indices = {class_name: i for i, class_name in enumerate(video_folders)}\n",
    "\n",
    "    while True:\n",
    "        if shuffle:\n",
    "            np.random.shuffle(video_folders)\n",
    "\n",
    "        for class_name in video_folders:\n",
    "            class_dir = os.path.join(directory, class_name)\n",
    "            videos = os.listdir(class_dir)\n",
    "            if shuffle:\n",
    "                np.random.shuffle(videos)\n",
    "\n",
    "            frames = []\n",
    "            labels = []\n",
    "            for video in videos[:batch_size // num_classes]:\n",
    "                video_path = os.path.join(class_dir, video)\n",
    "                frames.extend(extract_frames(video_path, target_size))\n",
    "                labels.extend([class_indices[class_name]] * len(frames))\n",
    "\n",
    "                if len(frames) >= batch_size:\n",
    "                    frames = np.array(frames[:batch_size])\n",
    "                    labels = np.array(labels[:batch_size])\n",
    "                    yield frames, labels\n",
    "                    frames = []\n",
    "                    labels = []\n",
    "\n",
    "def extract_frames(video_path, target_size):\n",
    "    cap = cv2.VideoCapture(video_path)\n",
    "    frames = []\n",
    "\n",
    "    while True:\n",
    "        ret, frame = cap.read()\n",
    "        if not ret:\n",
    "            break\n",
    "        frame = cv2.resize(frame, target_size)\n",
    "        frames.append(frame)\n",
    "\n",
    "    cap.release()\n",
    "    return frames\n",
    "\n",
    "# Example usage:\n",
    "batch_size = 32\n",
    "train_generator = video_data_generator(train_videos_dir, batch_size)\n",
    "validation_generator = video_data_generator(validation_videos_dir, batch_size)\n",
    "\n",
    "# Example of using the generators for training\n",
    "for i, (X_train, y_train) in enumerate(train_generator):\n",
    "    # Perform training steps using X_train and y_train\n",
    "    print(f\"Batch {i+1}: Training data shape: {X_train.shape}, Labels shape: {y_train.shape}\")\n",
    "    if i == 4:  # Stop after 5 batches for demonstration\n",
    "        break\n",
    "\n",
    "for i, (X_val, y_val) in enumerate(validation_generator):\n",
    "    # Perform validation steps using X_val and y_val\n",
    "    print(f\"Batch {i+1}: Validation data shape: {X_val.shape}, Labels shape: {y_val.shape}\")\n",
    "    if i == 4:  # Stop after 5 batches for demonstration\n",
    "        break\n"
   ]
  },
  {
   "cell_type": "code",
   "execution_count": 11,
   "metadata": {},
   "outputs": [
    {
     "name": "stdout",
     "output_type": "stream",
     "text": [
      "32\n",
      "4\n"
     ]
    }
   ],
   "source": [
    "\n",
    "\n",
    "# Define the CNN model\n",
    "model = Sequential([\n",
    "    Conv2D(32, (3, 3), activation='relu', input_shape=(224, 224, 3)),\n",
    "    MaxPooling2D((2, 2)),\n",
    "    Conv2D(64, (3, 3), activation='relu'),\n",
    "    MaxPooling2D((2, 2)),\n",
    "    Conv2D(128, (3, 3), activation='relu'),\n",
    "    MaxPooling2D((2, 2)),\n",
    "    Flatten(),\n",
    "    Dense(128, activation='relu'),\n",
    "    Dropout(0.5),\n",
    "    Dense(len(class_names), activation='softmax')  # Assuming len(class_names) gives the number of classes\n",
    "])\n",
    "\n",
    "# Compile the model\n",
    "model.compile(loss='sparse_categorical_crossentropy', optimizer='adam', metrics=['accuracy'])\n",
    "\n",
    "# Manually count the number of samples in the training and validation sets\n",
    "train_samples = sum(len(os.listdir(os.path.join(train_videos_dir, class_name))) for class_name in class_names)\n",
    "validation_samples = sum(len(os.listdir(os.path.join(validation_videos_dir, class_name))) for class_name in class_names)\n",
    "print(train_samples)\n",
    "print(validation_samples)\n",
    "\n"
   ]
  },
  {
   "cell_type": "code",
   "execution_count": 12,
   "metadata": {},
   "outputs": [],
   "source": [
    "import os\n",
    "import cv2\n",
    "import numpy as np\n",
    "from sklearn.model_selection import train_test_split\n",
    "from tensorflow.keras.models import Sequential\n",
    "from tensorflow.keras.layers import Conv2D, MaxPooling2D, Flatten, Dense, Dropout\n",
    "from tensorflow.keras.optimizers import Adam\n",
    "\n",
    "# Define the directory paths\n",
    "train_videos_dir = \"Splits/train\"  # Update with your actual directory path\n",
    "validation_videos_dir = \"Splits/validation\"\n",
    "test_videos_dir = \"Splits/test\"  # Update with your actual test directory path\n",
    "class_names = sorted(os.listdir(train_videos_dir))\n",
    "\n",
    "# Function to load and preprocess video frames\n",
    "def load_video_frames(video_path, target_size=(224, 224)):\n",
    "    frames = []\n",
    "    cap = cv2.VideoCapture(video_path)\n",
    "    while True:\n",
    "        ret, frame = cap.read()\n",
    "        if not ret:\n",
    "            break\n",
    "        frame = cv2.resize(frame, target_size)\n",
    "        frames.append(frame)\n",
    "    cap.release()\n",
    "    return np.array(frames)\n",
    "\n",
    "# Load video frames and labels for training\n",
    "X_train, y_train = [], []\n",
    "for class_idx, class_name in enumerate(class_names):\n",
    "    class_dir = os.path.join(train_videos_dir, class_name)\n",
    "    for video_file in os.listdir(class_dir):\n",
    "        video_path = os.path.join(class_dir, video_file)\n",
    "        frames = load_video_frames(video_path)\n",
    "        X_train.extend(frames)\n",
    "        y_train.extend([class_idx] * len(frames))\n",
    "\n",
    "X_train = np.array(X_train)\n",
    "y_train = np.array(y_train)\n",
    "\n",
    "# Load video frames and labels for validation\n",
    "X_val, y_val = [], []\n",
    "for class_idx, class_name in enumerate(class_names):\n",
    "    class_dir = os.path.join(validation_videos_dir, class_name)\n",
    "    for video_file in os.listdir(class_dir):\n",
    "        video_path = os.path.join(class_dir, video_file)\n",
    "        frames = load_video_frames(video_path)\n",
    "        X_val.extend(frames)\n",
    "        y_val.extend([class_idx] * len(frames))\n",
    "\n",
    "X_val = np.array(X_val)\n",
    "y_val = np.array(y_val)\n",
    "\n",
    "# Define the CNN model\n",
    "model = Sequential([\n",
    "    Conv2D(32, (3, 3), activation='relu', input_shape=(224, 224, 3)),\n",
    "    MaxPooling2D((2, 2)),\n",
    "    Conv2D(64, (3, 3), activation='relu'),\n",
    "    MaxPooling2D((2, 2)),\n",
    "    Conv2D(128, (3, 3), activation='relu'),\n",
    "    MaxPooling2D((2, 2)),\n",
    "    Flatten(),\n",
    "    Dense(128, activation='relu'),\n",
    "    Dropout(0.5),\n",
    "    Dense(len(class_names), activation='softmax')\n",
    "])\n",
    "\n",
    "# Compile the model\n",
    "model.compile(optimizer=Adam(), loss='sparse_categorical_crossentropy', metrics=['accuracy'])\n",
    "\n"
   ]
  },
  {
   "cell_type": "code",
   "execution_count": 13,
   "metadata": {},
   "outputs": [
    {
     "name": "stdout",
     "output_type": "stream",
     "text": [
      "Epoch 1/10\n",
      "151/151 [==============================] - 459s 3s/step - loss: 14.0991 - accuracy: 0.9619 - val_loss: 7.7652e-04 - val_accuracy: 1.0000\n",
      "Epoch 2/10\n",
      "151/151 [==============================] - 446s 3s/step - loss: 0.0134 - accuracy: 0.9965 - val_loss: 0.0105 - val_accuracy: 0.9934\n",
      "Epoch 3/10\n",
      "151/151 [==============================] - 428s 3s/step - loss: 0.0086 - accuracy: 0.9979 - val_loss: 0.0032 - val_accuracy: 1.0000\n",
      "Epoch 4/10\n",
      "151/151 [==============================] - 312s 2s/step - loss: 0.0020 - accuracy: 0.9992 - val_loss: 0.1021 - val_accuracy: 0.9703\n",
      "Epoch 5/10\n",
      "151/151 [==============================] - 285s 2s/step - loss: 7.5890e-04 - accuracy: 0.9998 - val_loss: 7.2918e-07 - val_accuracy: 1.0000\n",
      "Epoch 6/10\n",
      "151/151 [==============================] - 284s 2s/step - loss: 0.0011 - accuracy: 0.9998 - val_loss: 5.0287e-06 - val_accuracy: 1.0000\n",
      "Epoch 7/10\n",
      "151/151 [==============================] - 283s 2s/step - loss: 1.1606e-04 - accuracy: 1.0000 - val_loss: 3.8882e-07 - val_accuracy: 1.0000\n",
      "Epoch 8/10\n",
      "151/151 [==============================] - 284s 2s/step - loss: 1.4054e-04 - accuracy: 1.0000 - val_loss: 2.1603e-09 - val_accuracy: 1.0000\n",
      "Epoch 9/10\n",
      "151/151 [==============================] - 283s 2s/step - loss: 3.4722e-05 - accuracy: 1.0000 - val_loss: 2.8084e-08 - val_accuracy: 1.0000\n",
      "Epoch 10/10\n",
      "151/151 [==============================] - 283s 2s/step - loss: 4.1987 - accuracy: 0.9378 - val_loss: 0.3423 - val_accuracy: 0.7479\n"
     ]
    }
   ],
   "source": [
    "epochs = 10  # You can adjust the number of epochs as needed\n",
    "history = model.fit(\n",
    "    X_train, y_train,\n",
    "    validation_data=(X_val, y_val),\n",
    "    epochs=epochs,\n",
    "    batch_size=32\n",
    ")\n",
    "\n"
   ]
  },
  {
   "cell_type": "code",
   "execution_count": 14,
   "metadata": {},
   "outputs": [
    {
     "name": "stdout",
     "output_type": "stream",
     "text": [
      "{'hello': 0, 'namaste': 1}\n"
     ]
    }
   ],
   "source": [
    "class_indices = {class_name: idx for idx, class_name in enumerate(class_names)}\n",
    "with open(\"class_labels.json\", \"w\") as f:\n",
    "    json.dump(class_indices, f)\n",
    "print(class_indices)\n"
   ]
  },
  {
   "cell_type": "code",
   "execution_count": 15,
   "metadata": {},
   "outputs": [
    {
     "name": "stdout",
     "output_type": "stream",
     "text": [
      "Model saved successfully.\n"
     ]
    }
   ],
   "source": [
    "# Save the trained model\n",
    "model.save('my_video_model.h5')\n",
    "print(\"Model saved successfully.\")"
   ]
  },
  {
   "cell_type": "code",
   "execution_count": 16,
   "metadata": {},
   "outputs": [
    {
     "data": {
      "image/png": "[encoded data removed]",
      "text/plain": [
       "<Figure size 640x480 with 1 Axes>"
      ]
     },
     "metadata": {},
     "output_type": "display_data"
    }
   ],
   "source": [
    "# Display training and validation accuracy and loss\n",
    "plt.plot(history.history['accuracy'], label='Training Accuracy')\n",
    "plt.plot(history.history['val_accuracy'], label='Validation Accuracy')\n",
    "plt.xlabel('Epoch')\n",
    "plt.ylabel('Accuracy')\n",
    "plt.title('Training and Validation Accuracy')\n",
    "plt.legend(loc='lower right')\n",
    "plt.show()"
   ]
  },
  {
   "cell_type": "code",
   "execution_count": 17,
   "metadata": {},
   "outputs": [
    {
     "data": {
      "image/png": "[encoded data removed]",
      "text/plain": [
       "<Figure size 640x480 with 1 Axes>"
      ]
     },
     "metadata": {},
     "output_type": "display_data"
    }
   ],
   "source": [
    "# Display training and validation loss\n",
    "plt.plot(history.history['loss'], label='Training Loss')\n",
    "plt.plot(history.history['val_loss'], label='Validation Loss')\n",
    "plt.xlabel('Epoch')\n",
    "plt.ylabel('Loss')\n",
    "plt.title('Training and Validation Loss')\n",
    "plt.legend(loc='upper right')\n",
    "plt.show()"
   ]
  },
  {
   "cell_type": "code",
   "execution_count": 18,
   "metadata": {},
   "outputs": [],
   "source": [
    "import os\n",
    "import numpy as np\n",
    "import tensorflow as tf\n",
    "from tensorflow.keras.preprocessing import image\n",
    "from tensorflow.keras.models import load_model"
   ]
  },
  {
   "cell_type": "code",
   "execution_count": 19,
   "metadata": {},
   "outputs": [],
   "source": [
    "# Load the trained model\n",
    "model = load_model(\"my_video_model.h5\")"
   ]
  },
  {
   "cell_type": "code",
   "execution_count": 20,
   "metadata": {},
   "outputs": [
    {
     "name": "stdout",
     "output_type": "stream",
     "text": [
      "10/10 [==============================] - 5s 345ms/step\n",
      "Predicted classes for each frame:\n",
      "['hello', 'hello', 'hello', 'hello', 'hello', 'hello', 'hello', 'hello', 'hello', 'hello', 'hello', 'hello', 'hello', 'hello', 'hello', 'hello', 'hello', 'hello', 'hello', 'hello', 'hello', 'hello', 'hello', 'hello', 'hello', 'hello', 'hello', 'hello', 'hello', 'hello', 'hello', 'hello', 'hello', 'hello', 'hello', 'hello', 'hello', 'hello', 'hello', 'hello', 'hello', 'hello', 'hello', 'hello', 'hello', 'hello', 'hello', 'hello', 'hello', 'hello', 'hello', 'hello', 'hello', 'hello', 'hello', 'hello', 'hello', 'hello', 'hello', 'hello', 'hello', 'hello', 'hello', 'hello', 'hello', 'hello', 'hello', 'hello', 'hello', 'hello', 'hello', 'hello', 'hello', 'hello', 'hello', 'hello', 'hello', 'hello', 'hello', 'hello', 'hello', 'hello', 'hello', 'hello', 'hello', 'hello', 'hello', 'hello', 'hello', 'hello', 'hello', 'hello', 'hello', 'hello', 'hello', 'hello', 'hello', 'hello', 'hello', 'hello', 'hello', 'hello', 'hello', 'hello', 'hello', 'hello', 'hello', 'hello', 'hello', 'hello', 'hello', 'hello', 'hello', 'hello', 'hello', 'hello', 'hello', 'hello', 'hello', 'hello', 'hello', 'hello', 'hello', 'hello', 'hello', 'hello', 'hello', 'hello', 'hello', 'hello', 'hello', 'hello', 'hello', 'hello', 'hello', 'hello', 'hello', 'hello', 'hello', 'hello', 'hello', 'hello', 'hello', 'hello', 'hello', 'hello', 'hello', 'hello', 'hello', 'hello', 'hello', 'hello', 'hello', 'hello', 'hello', 'hello', 'hello', 'hello', 'hello', 'hello', 'hello', 'hello', 'hello', 'hello', 'hello', 'hello', 'hello', 'hello', 'hello', 'hello', 'hello', 'hello', 'hello', 'hello', 'hello', 'hello', 'hello', 'hello', 'hello', 'hello', 'hello', 'hello', 'hello', 'hello', 'hello', 'hello', 'hello', 'hello', 'hello', 'hello', 'hello', 'hello', 'hello', 'hello', 'hello', 'hello', 'hello', 'hello', 'hello', 'hello', 'hello', 'hello', 'hello', 'hello', 'hello', 'hello', 'hello', 'hello', 'hello', 'hello', 'hello', 'hello', 'hello', 'hello', 'hello', 'hello', 'hello', 'hello', 'hello', 'hello', 'hello', 'hello', 'hello', 'hello', 'hello', 'hello', 'hello', 'hello', 'hello', 'hello', 'hello', 'hello', 'hello', 'hello', 'hello', 'hello', 'hello', 'hello', 'hello', 'hello', 'hello', 'hello', 'hello', 'hello', 'hello', 'hello', 'hello', 'hello', 'hello', 'hello', 'hello', 'hello', 'hello', 'hello', 'hello', 'hello', 'hello', 'hello', 'hello', 'hello', 'hello', 'hello', 'hello', 'hello', 'hello', 'hello', 'hello', 'hello', 'hello', 'hello', 'hello', 'hello', 'hello', 'hello', 'hello', 'hello', 'hello', 'hello', 'hello', 'hello', 'hello', 'hello', 'hello', 'hello', 'hello', 'hello', 'hello', 'hello', 'hello', 'hello', 'hello', 'hello', 'hello', 'hello', 'hello', 'hello', 'hello', 'hello', 'hello', 'hello', 'hello', 'hello', 'hello', 'hello', 'hello', 'hello', 'hello', 'hello', 'hello', 'hello']\n"
     ]
    }
   ],
   "source": [
    "import cv2\n",
    "import numpy as np\n",
    "from tensorflow.keras.models import load_model\n",
    "\n",
    "# Load the saved model\n",
    "model = load_model('my_video_model.h5')\n",
    "\n",
    "# Function to preprocess video frames for prediction\n",
    "def preprocess_frame(frame, target_size=(224, 224)):\n",
    "    frame = cv2.resize(frame, target_size)\n",
    "    frame = frame / 255.0  # Normalize pixel values\n",
    "    return frame\n",
    "\n",
    "# Function to load and preprocess video frames from a video file\n",
    "def load_and_preprocess_video(video_path, target_size=(224, 224)):\n",
    "    cap = cv2.VideoCapture(video_path)\n",
    "    frames = []\n",
    "    while True:\n",
    "        ret, frame = cap.read()\n",
    "        if not ret:\n",
    "            break\n",
    "        frame = preprocess_frame(frame, target_size)\n",
    "        frames.append(frame)\n",
    "    cap.release()\n",
    "    return np.array(frames)\n",
    "\n",
    "\n",
    "# Function to make predictions on video frames using the loaded model\n",
    "def predict_video_frames(frames):\n",
    "    # Perform prediction\n",
    "    predictions = model.predict(frames)\n",
    "    predicted_classes = np.argmax(predictions, axis=1)\n",
    "    predicted_class_names = [class_names[idx] for idx in predicted_classes]\n",
    "    return predicted_class_names\n",
    "\n",
    "# Example of testing the model on a video\n",
    "test_video_path = \"video.mp4\"  # Update with the path to your test video\n",
    "video_frames = load_and_preprocess_video(test_video_path)\n",
    "if len(video_frames) > 0:\n",
    "    predicted_classes = predict_video_frames(video_frames)\n",
    "    # Print the predicted classes for each frame\n",
    "    print(\"Predicted classes for each frame:\")\n",
    "    print(predicted_classes)\n",
    "else:\n",
    "    print(\"Error: No frames loaded from the video.\")\n",
    "\n"
   ]
  },
  {
   "cell_type": "code",
   "execution_count": 21,
   "metadata": {},
   "outputs": [
    {
     "ename": "error",
     "evalue": "OpenCV(4.9.0) :-1: error: (-5:Bad argument) in function 'resize'\n> Overload resolution failed:\n>  - Can't parse 'dsize'. Expected sequence length 2, got 32\n>  - Can't parse 'dsize'. Expected sequence length 2, got 32\n",
     "output_type": "error",
     "traceback": [
      "\u001b[1;31m---------------------------------------------------------------------------\u001b[0m",
      "\u001b[1;31merror\u001b[0m                                     Traceback (most recent call last)",
      "Cell \u001b[1;32mIn[21], line 23\u001b[0m\n\u001b[0;32m     21\u001b[0m \u001b[38;5;66;03m# Example usage of predict_video_class function\u001b[39;00m\n\u001b[0;32m     22\u001b[0m video_path \u001b[38;5;241m=\u001b[39m \u001b[38;5;124m'\u001b[39m\u001b[38;5;124mSplits/train/namaste/video_9.mp4\u001b[39m\u001b[38;5;124m'\u001b[39m  \u001b[38;5;66;03m# Update with the actual path to your video\u001b[39;00m\n\u001b[1;32m---> 23\u001b[0m video_frames \u001b[38;5;241m=\u001b[39m \u001b[43mload_and_preprocess_video_frames\u001b[49m\u001b[43m(\u001b[49m\u001b[43mvideo_path\u001b[49m\u001b[43m)\u001b[49m  \u001b[38;5;66;03m# Load and preprocess video frames\u001b[39;00m\n\u001b[0;32m     24\u001b[0m batch_size \u001b[38;5;241m=\u001b[39m \u001b[38;5;28mlen\u001b[39m(video_frames)  \u001b[38;5;66;03m# Assuming processing all frames in a single batch\u001b[39;00m\n\u001b[0;32m     26\u001b[0m \u001b[38;5;66;03m# Predict class for the batch of video frames\u001b[39;00m\n",
      "Cell \u001b[1;32mIn[21], line 8\u001b[0m, in \u001b[0;36mload_and_preprocess_video_frames\u001b[1;34m(target_size)\u001b[0m\n\u001b[0;32m      6\u001b[0m \u001b[38;5;28;01mif\u001b[39;00m \u001b[38;5;129;01mnot\u001b[39;00m ret:\n\u001b[0;32m      7\u001b[0m     \u001b[38;5;28;01mbreak\u001b[39;00m\n\u001b[1;32m----> 8\u001b[0m frame \u001b[38;5;241m=\u001b[39m \u001b[43mcv2\u001b[49m\u001b[38;5;241;43m.\u001b[39;49m\u001b[43mresize\u001b[49m\u001b[43m(\u001b[49m\u001b[43mframe\u001b[49m\u001b[43m,\u001b[49m\u001b[43m \u001b[49m\u001b[43mtarget_size\u001b[49m\u001b[43m)\u001b[49m\n\u001b[0;32m      9\u001b[0m frame \u001b[38;5;241m=\u001b[39m frame\u001b[38;5;241m.\u001b[39mastype(\u001b[38;5;124m'\u001b[39m\u001b[38;5;124mfloat32\u001b[39m\u001b[38;5;124m'\u001b[39m) \u001b[38;5;241m/\u001b[39m \u001b[38;5;241m255.0\u001b[39m  \u001b[38;5;66;03m# Normalize pixel values to [0, 1]\u001b[39;00m\n\u001b[0;32m     10\u001b[0m frames\u001b[38;5;241m.\u001b[39mappend(frame)\n",
      "\u001b[1;31merror\u001b[0m: OpenCV(4.9.0) :-1: error: (-5:Bad argument) in function 'resize'\n> Overload resolution failed:\n>  - Can't parse 'dsize'. Expected sequence length 2, got 32\n>  - Can't parse 'dsize'. Expected sequence length 2, got 32\n"
     ]
    }
   ],
   "source": [
    "def load_and_preprocess_video_frames(target_size=(224, 224)):\n",
    "    cap = cv2.VideoCapture(0)\n",
    "    frames = []\n",
    "    while True:\n",
    "        ret, frame = cap.read()\n",
    "        if not ret:\n",
    "            break\n",
    "        frame = cv2.resize(frame, target_size)\n",
    "        frame = frame.astype('float32') / 255.0  # Normalize pixel values to [0, 1]\n",
    "        frames.append(frame)\n",
    "    cap.release()\n",
    "    return np.array(frames)\n",
    "\n",
    "# Function to predict the class and confidence score for a batch of video frames\n",
    "def predict_video_class(video_frames):\n",
    "    predictions = model.predict(video_frames)\n",
    "    class_indices = np.argmax(predictions, axis=1)  # Get the class indices for each frame\n",
    "    average_confidence = np.mean(np.max(predictions, axis=1))  # Compute average confidence across frames\n",
    "    return class_indices, average_confidence\n",
    "\n",
    "# Example usage of predict_video_class function\n",
    "video_path = 'Splits/train/namaste/video_9.mp4'  # Update with the actual path to your video\n",
    "video_frames = load_and_preprocess_video_frames(video_path)  # Load and preprocess video frames\n",
    "batch_size = len(video_frames)  # Assuming processing all frames in a single batch\n",
    "\n",
    "# Predict class for the batch of video frames\n",
    "class_indices, average_confidence = predict_video_class(video_frames)\n",
    "\n",
    "# Print the predicted class indices for each frame\n",
    "for frame_idx, class_idx in enumerate(class_indices):\n",
    "    print(f\"Frame {frame_idx + 1}: Predicted Class Index: {class_idx}\")\n",
    "\n",
    "# Print the average confidence score across all frames\n",
    "print(f\"Average Confidence Score: {average_confidence}\")"
   ]
  },
  {
   "cell_type": "code",
   "execution_count": 63,
   "metadata": {},
   "outputs": [],
   "source": [
    "threshold = 0.95  # Adjust as needed"
   ]
  },
  {
   "cell_type": "code",
   "execution_count": 64,
   "metadata": {},
   "outputs": [],
   "source": [
    "def detect_ood_video(video_path, threshold):\n",
    "    video_frames = load_and_preprocess_video_frames(video_path)\n",
    "    class_indices, average_confidence = predict_video_class(video_frames)\n",
    "    \n",
    "    if average_confidence < threshold:\n",
    "        return True, None  # Video is OOD\n",
    "    else:\n",
    "        return False, class_indices[0]  # Video is in-distribution, return the class of the first frame"
   ]
  },
  {
   "cell_type": "code",
   "execution_count": 65,
   "metadata": {},
   "outputs": [
    {
     "name": "stdout",
     "output_type": "stream",
     "text": [
      "{'hello': 0, 'namaste': 1}\n"
     ]
    }
   ],
   "source": [
    "class_labels = {class_name: idx for idx, class_name in enumerate(class_names)}\n",
    "print(class_labels)"
   ]
  }
 ],
 "metadata": {
  "kernelspec": {
   "display_name": "Python 3",
   "language": "python",
   "name": "python3"
  },
  "language_info": {
   "codemirror_mode": {
    "name": "ipython",
    "version": 3
   },
   "file_extension": ".py",
   "mimetype": "text/x-python",
   "name": "python",
   "nbconvert_exporter": "python",
   "pygments_lexer": "ipython3",
   "version": "3.10.11"
  }
 },
 "nbformat": 4,
 "nbformat_minor": 2
}
